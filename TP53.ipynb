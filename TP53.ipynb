{
 "cells": [
  {
   "cell_type": "markdown",
   "id": "4383abff",
   "metadata": {},
   "source": [
    "# 以TP53为Target 蛋白进行Drug discovery分析\n",
    "\n",
    "采用ChEMBL数据库，获取实验数据"
   ]
  },
  {
   "cell_type": "markdown",
   "id": "53239c55",
   "metadata": {},
   "source": [
    "## 下载数据"
   ]
  },
  {
   "cell_type": "markdown",
   "id": "bbadcae8",
   "metadata": {},
   "source": [
    "导入依赖包"
   ]
  },
  {
   "cell_type": "code",
   "execution_count": null,
   "id": "0734abe8",
   "metadata": {},
   "outputs": [],
   "source": [
    "import pandas as pd\n",
    "from chembl_webresource_client.new_client import new_client"
   ]
  },
  {
   "cell_type": "markdown",
   "id": "e7c2b920",
   "metadata": {},
   "source": [
    "检索`TP53`在ChEMBL中的记录，选择正确的ID"
   ]
  },
  {
   "cell_type": "code",
   "execution_count": null,
   "id": "35af37c8",
   "metadata": {},
   "outputs": [],
   "source": [
    "# Target search for TP53\n",
    "target = new_client.target\n",
    "#Tumour suppressor p53/oncoprotein Mdm2： CHEMBL1907611\n",
    "target_query = target.search('TP53')\n",
    "targets = pd.DataFrame.from_dict(target_query)\n",
    "targets"
   ]
  },
  {
   "cell_type": "code",
   "execution_count": null,
   "id": "c0701f24",
   "metadata": {},
   "outputs": [],
   "source": [
    "activity = new_client.activity\n",
    "res = activity.filter(target_chembl_id='CHEMBL1907611').filter(standard_type=\"IC50\")"
   ]
  },
  {
   "cell_type": "code",
   "execution_count": null,
   "id": "756294b9",
   "metadata": {},
   "outputs": [],
   "source": [
    "df = pd.DataFrame.from_dict(res)\n",
    "df.head(10)"
   ]
  },
  {
   "cell_type": "markdown",
   "id": "06888688",
   "metadata": {},
   "source": [
    "输出数据"
   ]
  },
  {
   "cell_type": "code",
   "execution_count": null,
   "id": "fadea17b",
   "metadata": {},
   "outputs": [],
   "source": [
    "df.to_csv('TP53_activity_data.csv', index=False)"
   ]
  },
  {
   "cell_type": "code",
   "execution_count": null,
   "id": "c90e422a",
   "metadata": {},
   "outputs": [],
   "source": [
    "df.shape"
   ]
  },
  {
   "cell_type": "markdown",
   "id": "488b0bdc",
   "metadata": {},
   "source": [
    "## 数据预处理"
   ]
  },
  {
   "cell_type": "markdown",
   "id": "e9907cb0",
   "metadata": {},
   "source": [
    "去除NA值：\n",
    "\n",
    "+ IC50\n",
    "\n",
    "+ 分子式"
   ]
  },
  {
   "cell_type": "code",
   "execution_count": null,
   "id": "dcf1cfb8",
   "metadata": {},
   "outputs": [],
   "source": [
    "#IC50 value\n",
    "df2 = df[df.standard_value.notna()]\n",
    "# 分子式\n",
    "df2 = df2[df.canonical_smiles.notna()]\n",
    "df2"
   ]
  },
  {
   "cell_type": "markdown",
   "id": "5a95c639",
   "metadata": {},
   "source": [
    "去除重复"
   ]
  },
  {
   "cell_type": "code",
   "execution_count": null,
   "id": "648ae3a5",
   "metadata": {},
   "outputs": [],
   "source": [
    "len(df2.canonical_smiles.unique())"
   ]
  },
  {
   "cell_type": "code",
   "execution_count": null,
   "id": "b27d7d61",
   "metadata": {
    "scrolled": false
   },
   "outputs": [],
   "source": [
    "df2_nr = df2.drop_duplicates(['canonical_smiles'])\n",
    "df2_nr"
   ]
  },
  {
   "cell_type": "markdown",
   "id": "638c6398",
   "metadata": {},
   "source": [
    "选择需要的数据信息"
   ]
  },
  {
   "cell_type": "code",
   "execution_count": null,
   "id": "a9692f7c",
   "metadata": {},
   "outputs": [],
   "source": [
    "selection = ['molecule_chembl_id','canonical_smiles','standard_value']\n",
    "df3 = df2_nr[selection]\n",
    "df3"
   ]
  },
  {
   "cell_type": "code",
   "execution_count": null,
   "id": "d0eb4e3c",
   "metadata": {},
   "outputs": [],
   "source": [
    "df3.to_csv('TP53_activity_data_preprocessed.csv', index=False)"
   ]
  },
  {
   "cell_type": "markdown",
   "id": "7ea8dc68",
   "metadata": {},
   "source": [
    "### Simply EDA"
   ]
  },
  {
   "cell_type": "code",
   "execution_count": null,
   "id": "42c71c7f",
   "metadata": {},
   "outputs": [],
   "source": [
    "df3=pd.read_csv(\"TP53_activity_data_preprocessed.csv\")\n",
    "\n",
    "bioactivity_threshold = []\n",
    "for i in df3.standard_value:\n",
    "  if float(i) >= 2270:\n",
    "    bioactivity_threshold.append(\"inactive\")\n",
    "  elif float(i) <= 5:\n",
    "    bioactivity_threshold.append(\"active\")\n",
    "  else:\n",
    "    bioactivity_threshold.append(\"intermediate\")\n",
    "\n",
    "bioactivity_class = pd.Series(bioactivity_threshold, name='class')\n",
    "df4 = pd.concat([df3, bioactivity_class], axis=1)\n",
    "df4"
   ]
  },
  {
   "cell_type": "code",
   "execution_count": null,
   "id": "6872f891",
   "metadata": {},
   "outputs": [],
   "source": [
    "df4.standard_value.describe()"
   ]
  },
  {
   "cell_type": "markdown",
   "id": "b7174ea4",
   "metadata": {},
   "source": [
    "boxplot图"
   ]
  },
  {
   "cell_type": "code",
   "execution_count": null,
   "id": "da5cb8bf",
   "metadata": {},
   "outputs": [],
   "source": [
    "import seaborn as sns\n",
    "sns.set_theme(style=\"white\")"
   ]
  },
  {
   "cell_type": "code",
   "execution_count": null,
   "id": "c0dd8a9a",
   "metadata": {},
   "outputs": [],
   "source": [
    "ax = sns.boxplot(y=\"standard_value\", data=df4)\n",
    "ax = sns.stripplot(y=\"standard_value\",data=df4, color=\".25\")"
   ]
  },
  {
   "cell_type": "markdown",
   "id": "d33b4156",
   "metadata": {},
   "source": [
    "密度分布图"
   ]
  },
  {
   "cell_type": "code",
   "execution_count": null,
   "id": "e6cf7a17",
   "metadata": {},
   "outputs": [],
   "source": [
    "#sns.histplot(df4['standard_value'])\n",
    "sns.distplot(df4['standard_value'])"
   ]
  },
  {
   "cell_type": "code",
   "execution_count": null,
   "id": "c45327b5",
   "metadata": {},
   "outputs": [],
   "source": [
    "import numpy as np\n",
    "#sns.histplot(np.log2(df4['standard_value']))\n",
    "sns.distplot(np.log2(df4['standard_value']))"
   ]
  },
  {
   "cell_type": "markdown",
   "id": "c9b453b1",
   "metadata": {},
   "source": [
    "### 计算 Lipinski \n",
    "\n",
    "基于compound的分子式，进行druglikness的估算：\n",
    "\n",
    "The Lipinski's Rule stated the following:\n",
    "* Molecular weight < 500 Dalton\n",
    "* Octanol-water partition coefficient (LogP) < 5\n",
    "* Hydrogen bond donors < 5\n",
    "* Hydrogen bond acceptors < 10 \n",
    "\n",
    " a set of rule-of-thumb for evaluating the druglikeness of compounds"
   ]
  },
  {
   "cell_type": "code",
   "execution_count": null,
   "id": "7bbe283e",
   "metadata": {},
   "outputs": [],
   "source": [
    "import numpy as np\n",
    "from rdkit import Chem\n",
    "from rdkit.Chem import Descriptors, Lipinski"
   ]
  },
  {
   "cell_type": "code",
   "execution_count": null,
   "id": "cd79e8a4",
   "metadata": {},
   "outputs": [],
   "source": [
    "def lipinski(smiles, verbose=False):\n",
    "\n",
    "    moldata= []\n",
    "    for elem in smiles:\n",
    "        mol=Chem.MolFromSmiles(elem) \n",
    "        moldata.append(mol)\n",
    "       \n",
    "    baseData= np.arange(1,1)\n",
    "    i=0  \n",
    "    for mol in moldata:        \n",
    "       \n",
    "        desc_MolWt = Descriptors.MolWt(mol)\n",
    "        desc_MolLogP = Descriptors.MolLogP(mol)\n",
    "        desc_NumHDonors = Lipinski.NumHDonors(mol)\n",
    "        desc_NumHAcceptors = Lipinski.NumHAcceptors(mol)\n",
    "           \n",
    "        row = np.array([desc_MolWt,\n",
    "                        desc_MolLogP,\n",
    "                        desc_NumHDonors,\n",
    "                        desc_NumHAcceptors])   \n",
    "    \n",
    "        if(i==0):\n",
    "            baseData=row\n",
    "        else:\n",
    "            baseData=np.vstack([baseData, row])\n",
    "        i=i+1      \n",
    "    \n",
    "    columnNames=[\"MW\",\"LogP\",\"NumHDonors\",\"NumHAcceptors\"]   \n",
    "    descriptors = pd.DataFrame(data=baseData,columns=columnNames)\n",
    "    \n",
    "    return descriptors"
   ]
  },
  {
   "cell_type": "code",
   "execution_count": null,
   "id": "927574ba",
   "metadata": {},
   "outputs": [],
   "source": [
    "df_lipinski = lipinski(df4.canonical_smiles)\n",
    "df_lipinski"
   ]
  },
  {
   "cell_type": "code",
   "execution_count": null,
   "id": "14aa9a11",
   "metadata": {},
   "outputs": [],
   "source": [
    "df_combined = pd.concat([df4,df_lipinski], axis=1)\n",
    "df_combined"
   ]
  },
  {
   "cell_type": "markdown",
   "id": "34988277",
   "metadata": {},
   "source": [
    "### IC50值转换\n",
    "\n",
    "将原有的IC50进行LOG转换"
   ]
  },
  {
   "cell_type": "code",
   "execution_count": null,
   "id": "70738046",
   "metadata": {},
   "outputs": [],
   "source": [
    "import numpy as np\n",
    "df_combined['logIC50']=[np.log10(m+1) for m in df_combined['standard_value']]\n",
    "df_combined"
   ]
  },
  {
   "cell_type": "code",
   "execution_count": null,
   "id": "ab321213",
   "metadata": {},
   "outputs": [],
   "source": [
    "df_combined.logIC50.describe()"
   ]
  },
  {
   "cell_type": "code",
   "execution_count": null,
   "id": "71475e67",
   "metadata": {},
   "outputs": [],
   "source": [
    "df_combined.to_csv('TP53_activity_data_3class_pIC50.csv')"
   ]
  },
  {
   "cell_type": "markdown",
   "id": "8c21df0f",
   "metadata": {},
   "source": [
    "### 可视化"
   ]
  },
  {
   "cell_type": "code",
   "execution_count": null,
   "id": "10b2974e",
   "metadata": {},
   "outputs": [],
   "source": [
    "import matplotlib.pyplot as plt\n",
    "\n",
    "df_2class=df_combined[df_combined['class']!=\"intermediate\"]\n",
    "\n",
    "plt.figure(figsize=(5.5, 5.5))\n",
    "\n",
    "sns.scatterplot(x='MW', y='LogP', data=df_2class, hue='class', size='logIC50', edgecolor='black', alpha=0.7)\n",
    "\n",
    "plt.xlabel('MW', fontsize=14, fontweight='bold')\n",
    "plt.ylabel('LogP', fontsize=14, fontweight='bold')\n",
    "plt.legend(bbox_to_anchor=(1.05, 1), loc=2, borderaxespad=0)\n",
    "plt.savefig('plot_MW_vs_LogP.pdf')"
   ]
  },
  {
   "cell_type": "code",
   "execution_count": null,
   "id": "b4ab9d57",
   "metadata": {},
   "outputs": [],
   "source": [
    "plt.figure(figsize=(5.5, 5.5))\n",
    "\n",
    "sns.boxplot(x = 'class', y = 'MW', data = df_2class)\n",
    "\n",
    "plt.xlabel('Bioactivity class', fontsize=14, fontweight='bold')\n",
    "plt.ylabel('MW', fontsize=14, fontweight='bold')\n",
    "\n",
    "plt.savefig('plot_MW.pdf')"
   ]
  },
  {
   "cell_type": "markdown",
   "id": "f6ffb51e",
   "metadata": {},
   "source": [
    "## 特征提取\n",
    "\n",
    "采用padel进行化合物fingerprint计算\n"
   ]
  },
  {
   "cell_type": "code",
   "execution_count": null,
   "id": "48e6dfba",
   "metadata": {},
   "outputs": [],
   "source": [
    "import pandas as pd\n",
    "df=pd.read_csv(\"TP53_activity_data_3class_pIC50.csv\",index_col=0)\n",
    "df"
   ]
  },
  {
   "cell_type": "code",
   "execution_count": null,
   "id": "6844bfe4",
   "metadata": {},
   "outputs": [],
   "source": [
    "selection = ['canonical_smiles','molecule_chembl_id']\n",
    "df_selection = df[selection]\n",
    "df_selection.to_csv('molecule.smi', sep='\\t', index=False, header=False)"
   ]
  },
  {
   "cell_type": "code",
   "execution_count": null,
   "id": "e068b17e",
   "metadata": {},
   "outputs": [],
   "source": [
    "df_selection"
   ]
  },
  {
   "cell_type": "markdown",
   "id": "5e28274f",
   "metadata": {},
   "source": [
    "每个化合物，共获取800多个features\n"
   ]
  },
  {
   "cell_type": "markdown",
   "id": "9d34838a",
   "metadata": {},
   "source": [
    "### 使用python计算fingerPrint"
   ]
  },
  {
   "cell_type": "code",
   "execution_count": null,
   "id": "55f1b080",
   "metadata": {},
   "outputs": [],
   "source": [
    "from padelpy import from_smiles"
   ]
  },
  {
   "cell_type": "code",
   "execution_count": null,
   "id": "76996192",
   "metadata": {},
   "outputs": [],
   "source": [
    "fingerprints = from_smiles('CCCN1C(=O)c2ccccc2C1(NC(=O)c1ccc(C(C)(C)C)cc1)c1ccc(OCOCC[Si](C)(C)C)cc1', fingerprints=True, descriptors=False)"
   ]
  },
  {
   "cell_type": "markdown",
   "id": "9465d4a2",
   "metadata": {},
   "source": [
    "**批量预测**"
   ]
  },
  {
   "cell_type": "code",
   "execution_count": null,
   "id": "255d1d2b",
   "metadata": {},
   "outputs": [],
   "source": [
    "from padelpy import padeldescriptor"
   ]
  },
  {
   "cell_type": "code",
   "execution_count": null,
   "id": "7fcd74fb",
   "metadata": {},
   "outputs": [],
   "source": [
    "# to calculate PubChem fingerprints\n",
    "padeldescriptor(mol_dir=\"molecule.smi\", \n",
    "                d_file=\"descriptors.csv\",\n",
    "                fingerprints=True,\n",
    "                removesalt=True,\n",
    "                standardizenitro=True,\n",
    "                threads=2,\n",
    "                log=True\n",
    "               )"
   ]
  },
  {
   "cell_type": "markdown",
   "id": "c5a9a8eb",
   "metadata": {},
   "source": [
    "### 将features与因变量结合"
   ]
  },
  {
   "cell_type": "code",
   "execution_count": null,
   "id": "90af51ff",
   "metadata": {},
   "outputs": [],
   "source": [
    "padel_features= pd.read_csv('descriptors.csv')\n",
    "padel_features"
   ]
  },
  {
   "cell_type": "code",
   "execution_count": null,
   "id": "b8834db6",
   "metadata": {},
   "outputs": [],
   "source": [
    "padel_featuresX=padel_features.drop(columns=['Name'])\n",
    "dataset = pd.concat([padel_featuresX,df['logIC50']], axis=1)\n",
    "dataset"
   ]
  },
  {
   "cell_type": "code",
   "execution_count": null,
   "id": "c4e44100",
   "metadata": {},
   "outputs": [],
   "source": [
    "dataset.to_csv('TP53_Features_fp_IC50.csv', index=False)"
   ]
  },
  {
   "cell_type": "markdown",
   "id": "ddc99246",
   "metadata": {},
   "source": [
    "## 建立ML model"
   ]
  },
  {
   "cell_type": "code",
   "execution_count": null,
   "id": "ba4207f1",
   "metadata": {},
   "outputs": [],
   "source": [
    "import pandas as pd\n",
    "import seaborn as sns\n",
    "from sklearn.model_selection import train_test_split\n",
    "from sklearn.ensemble import RandomForestRegressor"
   ]
  },
  {
   "cell_type": "code",
   "execution_count": null,
   "id": "a5783329",
   "metadata": {},
   "outputs": [],
   "source": [
    "df = pd.read_csv('TP53_Features_fp_IC50.csv')\n",
    "df"
   ]
  },
  {
   "cell_type": "markdown",
   "id": "d57a3288",
   "metadata": {},
   "source": [
    "### X,Y features提取"
   ]
  },
  {
   "cell_type": "code",
   "execution_count": null,
   "id": "e82450fa",
   "metadata": {},
   "outputs": [],
   "source": [
    "X = df.drop('logIC50', axis=1)\n",
    "X"
   ]
  },
  {
   "cell_type": "code",
   "execution_count": null,
   "id": "74e75b3f",
   "metadata": {},
   "outputs": [],
   "source": [
    "Y = df.logIC50\n",
    "Y"
   ]
  },
  {
   "cell_type": "markdown",
   "id": "d01ebf39",
   "metadata": {},
   "source": [
    "### Features过滤\n",
    "\n",
    "可选"
   ]
  },
  {
   "cell_type": "code",
   "execution_count": null,
   "id": "35557b5a",
   "metadata": {},
   "outputs": [],
   "source": [
    "#from sklearn.feature_selection import VarianceThreshold\n",
    "#selection = VarianceThreshold()    \n",
    "#X = selection.fit_transform(X)\n",
    "#X.shape"
   ]
  },
  {
   "cell_type": "markdown",
   "id": "35828796",
   "metadata": {},
   "source": [
    "### Dataset 划分\n",
    "\n",
    "从中获取train & test 数据集"
   ]
  },
  {
   "cell_type": "code",
   "execution_count": null,
   "id": "56e085fb",
   "metadata": {},
   "outputs": [],
   "source": [
    "X_train, X_test, Y_train, Y_test = train_test_split(X, Y, test_size=0.2)"
   ]
  },
  {
   "cell_type": "code",
   "execution_count": null,
   "id": "7bc2a85d",
   "metadata": {},
   "outputs": [],
   "source": [
    "X_train.shape,X_test.shape"
   ]
  },
  {
   "cell_type": "markdown",
   "id": "e1de2011",
   "metadata": {},
   "source": [
    "### Random Forest Regression Model"
   ]
  },
  {
   "cell_type": "code",
   "execution_count": null,
   "id": "0d2dca74",
   "metadata": {},
   "outputs": [],
   "source": [
    "import numpy as np\n",
    "import random\n",
    "np.sqrt(515)"
   ]
  },
  {
   "cell_type": "code",
   "execution_count": null,
   "id": "5e76ae74",
   "metadata": {},
   "outputs": [],
   "source": [
    "model = RandomForestRegressor(n_estimators=25)\n",
    "model.fit(X_train, Y_train)\n",
    "r2 = model.score(X_test, Y_test)\n",
    "r2"
   ]
  },
  {
   "cell_type": "markdown",
   "id": "7e31dd17",
   "metadata": {},
   "source": [
    "### 可视化"
   ]
  },
  {
   "cell_type": "code",
   "execution_count": null,
   "id": "9e21ffdb",
   "metadata": {},
   "outputs": [],
   "source": [
    "Y_pred = model.predict(X_test)"
   ]
  },
  {
   "cell_type": "code",
   "execution_count": null,
   "id": "d3ea1300",
   "metadata": {},
   "outputs": [],
   "source": [
    "import seaborn as sns\n",
    "import matplotlib.pyplot as plt\n",
    "\n",
    "sns.set(color_codes=True)\n",
    "sns.set_style(\"white\")\n",
    "\n",
    "ax = sns.regplot(Y_test, Y_pred, scatter_kws={'alpha':0.2})\n",
    "ax.set_xlabel('Experimental IC50')\n",
    "ax.set_ylabel('Predicted IC50')\n",
    "\n",
    "plt.show"
   ]
  },
  {
   "cell_type": "code",
   "execution_count": null,
   "id": "573f06aa",
   "metadata": {},
   "outputs": [],
   "source": [
    "r=np.corrcoef(Y_test,Y_pred)\n",
    "r[0, 1]"
   ]
  },
  {
   "cell_type": "code",
   "execution_count": null,
   "id": "c6d8371c",
   "metadata": {},
   "outputs": [],
   "source": [
    "import scipy.stats\n",
    "scipy.stats.pearsonr(Y_test, Y_pred)"
   ]
  },
  {
   "cell_type": "markdown",
   "id": "72bf2b59",
   "metadata": {},
   "source": [
    "## 比较不同Models\n",
    "\n",
    "主要是使用 [lazypredict](https://github.com/shankarpandala/lazypredict) 实现多个ML Models的比较"
   ]
  },
  {
   "cell_type": "code",
   "execution_count": null,
   "id": "71c82188",
   "metadata": {},
   "outputs": [],
   "source": [
    "import pandas as pd\n",
    "import seaborn as sns\n",
    "from sklearn.model_selection import train_test_split\n",
    "import lazypredict\n",
    "from lazypredict.Supervised import LazyRegressor"
   ]
  },
  {
   "cell_type": "markdown",
   "id": "72c12e82",
   "metadata": {},
   "source": [
    "### 分析结果"
   ]
  },
  {
   "cell_type": "code",
   "execution_count": null,
   "id": "c6d6d649",
   "metadata": {},
   "outputs": [],
   "source": [
    "mlf = LazyRegressor(verbose=0, ignore_warnings=True, custom_metric=None)\n",
    "models_x,predictions = mlf.fit(X_train, X_train, Y_train, Y_train)"
   ]
  },
  {
   "cell_type": "code",
   "execution_count": null,
   "id": "f8641576",
   "metadata": {},
   "outputs": [],
   "source": [
    "predictions.head(10)"
   ]
  },
  {
   "cell_type": "markdown",
   "id": "a40802c9",
   "metadata": {},
   "source": [
    "### 结果可视化"
   ]
  },
  {
   "cell_type": "markdown",
   "id": "59976aaa",
   "metadata": {},
   "source": [
    "做四幅图进行结果可视化"
   ]
  },
  {
   "cell_type": "code",
   "execution_count": null,
   "id": "edff7105",
   "metadata": {},
   "outputs": [],
   "source": [
    "df=predictions.head(10)\n",
    "df"
   ]
  },
  {
   "cell_type": "code",
   "execution_count": null,
   "id": "69d5df7c",
   "metadata": {},
   "outputs": [],
   "source": [
    "import seaborn as sns\n",
    "import matplotlib.pyplot as plt\n",
    "\n",
    "#sns.set(color_codes=True)\n",
    "#sns.set_style(\"white\")\n",
    "fig=plt.figure(figsize=(15,8))\n",
    "grid=plt.GridSpec(2,2,wspace=1,hspace=0.5,figure=fig)\n",
    "\n",
    "ax1=fig.add_subplot(grid[0,0])\n",
    "ax2=fig.add_subplot(grid[0,1])\n",
    "ax3=fig.add_subplot(grid[1,0])\n",
    "ax4=fig.add_subplot(grid[1,1])\n",
    "\n",
    "sns.barplot(data=df, x='Adjusted R-Squared', y=df.index,ax=ax1)\n",
    "sns.barplot(data=df, x='R-Squared', y=df.index,ax=ax2)\n",
    "sns.barplot(data=df, x='RMSE', y=df.index,ax=ax3)\n",
    "sns.barplot(data=df, x='Time Taken', y=df.index,ax=ax4)\n",
    "\n",
    "plt.show()"
   ]
  },
  {
   "cell_type": "markdown",
   "id": "75b363b2",
   "metadata": {},
   "source": [
    "Top3 best models:\n",
    "\n",
    "+ DecisionTreeRegressor\n",
    "\n",
    "+ ExtraTreeRegressor\n",
    "\n",
    "+ ExtraTreesRegressor\n",
    "\n",
    "Top3 best in test data:\n",
    "\n",
    "+ RandomForestRegressor\n",
    "\n",
    "+ GradientBoostingRegressor\n",
    "\n",
    "+ LGBMRegressor"
   ]
  },
  {
   "cell_type": "markdown",
   "id": "fe1795c6",
   "metadata": {},
   "source": [
    "## Model的应用\n",
    "\n",
    "对于一个未知化合物的预测：\n",
    "\n"
   ]
  },
  {
   "cell_type": "code",
   "execution_count": null,
   "id": "4f21c53b",
   "metadata": {},
   "outputs": [],
   "source": [
    "from padelpy import from_smiles"
   ]
  },
  {
   "cell_type": "code",
   "execution_count": null,
   "id": "9ce565d9",
   "metadata": {},
   "outputs": [],
   "source": [
    "x=\"CCCN1C(=O)c2ccccc2C1(NC(=O)c1ccccc1)c1ccc(C(C)(C)C)cc1\"\n",
    "fingerprints = from_smiles(x, fingerprints=True, descriptors=False)\n",
    "fingerprints"
   ]
  },
  {
   "cell_type": "code",
   "execution_count": null,
   "id": "b4472108",
   "metadata": {},
   "outputs": [],
   "source": [
    "#array转化\n",
    "vs=[]\n",
    "for k,v in fingerprints.items():\n",
    "    vs.append(int(v))\n",
    "vs=np.array(vs).reshape(1,-1)"
   ]
  },
  {
   "cell_type": "code",
   "execution_count": null,
   "id": "e87a6188",
   "metadata": {},
   "outputs": [],
   "source": [
    "Y_pred = model.predict(vs)\n",
    "Y_pred"
   ]
  },
  {
   "cell_type": "markdown",
   "id": "3e71c8ca",
   "metadata": {},
   "source": [
    "## 环境迁移\n",
    "\n",
    "在windows上进行环境迁移，我又又又采坑了！！\n",
    "\n",
    "### 导出环境\n",
    "\n",
    "```sh\n",
    "conda env export > drug.yaml\n",
    "```\n",
    "\n",
    "### 导出依赖包\n",
    "\n",
    "```sh\n",
    "pip freeze > requirements.txt\n",
    "```\n",
    "\n",
    "### 坑s\n",
    "\n",
    "#### 坑1\n",
    "\n",
    "以上均是常规操作，但是要注意`drug.yaml` 和 `requirements.txt` 文件中一些很不合适的 packages比如这些：\n",
    "\n",
    "+ requirements.txt\n",
    "\n",
    "```\n",
    "cycler @ file:///home/conda/feedstock_root/build_artifacts/cycler_1635519461629/work\n",
    "\n",
    "fonttools @ file:///D:/bld/fonttools_1639926487978/work\n",
    "```\n",
    "对于这些怎么办，我通过手动`pip show cycler`去找到对应的版本信息\n",
    "\n",
    "#### 坑2\n",
    "\n",
    "`drug.yaml` 文件中有pip包信息，会和`requirements.txt`中的包发送冲突。\n",
    "\n",
    "添加channel，并删除`-pip:`下的所有包\n",
    "\n",
    "#### 坑3\n",
    "\n",
    "使用系统自带的`cmd`无法正常安装conda 环境，但是使用conda自带的`prompt`就可以！！！\n",
    "\n",
    "```sh\n",
    "pip install -r .\\requirements.txt --ignore-installed -i https://pypi.douban.com/simple/\n",
    "```\n",
    "\n",
    "#### 无限坑\n",
    "\n",
    "各种包版本的依赖和冲突，需要手动解决"
   ]
  },
  {
   "cell_type": "markdown",
   "id": "f1349066",
   "metadata": {},
   "source": [
    "### 总结\n",
    "\n",
    "这两个文件运行比较稳定：\n",
    "\n",
    "+ ./drug.yaml\n",
    "\n",
    "+ ./requirements.txt\n",
    "\n",
    "而在envs/下的两个文件，则是最为原始的环境文件，不能成功运行"
   ]
  },
  {
   "cell_type": "code",
   "execution_count": null,
   "id": "9d3807c9",
   "metadata": {},
   "outputs": [],
   "source": []
  },
  {
   "cell_type": "code",
   "execution_count": null,
   "id": "419c5c2b",
   "metadata": {},
   "outputs": [],
   "source": []
  }
 ],
 "metadata": {
  "kernelspec": {
   "display_name": "drug",
   "language": "python",
   "name": "drug"
  },
  "language_info": {
   "codemirror_mode": {
    "name": "ipython",
    "version": 3
   },
   "file_extension": ".py",
   "mimetype": "text/x-python",
   "name": "python",
   "nbconvert_exporter": "python",
   "pygments_lexer": "ipython3",
   "version": "3.8.12"
  },
  "latex_envs": {
   "LaTeX_envs_menu_present": true,
   "autoclose": false,
   "autocomplete": true,
   "bibliofile": "biblio.bib",
   "cite_by": "apalike",
   "current_citInitial": 1,
   "eqLabelWithNumbers": true,
   "eqNumInitial": 1,
   "hotkeys": {
    "equation": "Ctrl-E",
    "itemize": "Ctrl-I"
   },
   "labels_anchors": false,
   "latex_user_defs": false,
   "report_style_numbering": false,
   "user_envs_cfg": false
  },
  "toc": {
   "base_numbering": 1,
   "nav_menu": {},
   "number_sections": true,
   "sideBar": true,
   "skip_h1_title": true,
   "title_cell": "Table of Contents",
   "title_sidebar": "Contents",
   "toc_cell": false,
   "toc_position": {
    "height": "calc(100% - 180px)",
    "left": "10px",
    "top": "150px",
    "width": "290.237px"
   },
   "toc_section_display": true,
   "toc_window_display": true
  }
 },
 "nbformat": 4,
 "nbformat_minor": 5
}
